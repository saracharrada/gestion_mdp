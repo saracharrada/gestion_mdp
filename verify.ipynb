{
 "cells": [
  {
   "cell_type": "code",
   "execution_count": 6,
   "id": "a50eb6eb",
   "metadata": {},
   "outputs": [
    {
     "ename": "NameError",
     "evalue": "name 'password' is not defined",
     "output_type": "error",
     "traceback": [
      "\u001b[1;31m---------------------------------------------------------------------------\u001b[0m",
      "\u001b[1;31mNameError\u001b[0m                                 Traceback (most recent call last)",
      "Input \u001b[1;32mIn [6]\u001b[0m, in \u001b[0;36m<cell line: 1>\u001b[1;34m()\u001b[0m\n\u001b[1;32m----> 1\u001b[0m password1\u001b[38;5;241m=\u001b[39m\u001b[43mpassword\u001b[49m\n\u001b[0;32m      2\u001b[0m \u001b[38;5;28;01mdef\u001b[39;00m \u001b[38;5;21mverify\u001b[39m():\n\u001b[0;32m      3\u001b[0m     X\u001b[38;5;241m=\u001b[39m \u001b[38;5;28mstr\u001b[39m(\u001b[38;5;28minput\u001b[39m(\u001b[38;5;124m'\u001b[39m\u001b[38;5;124menter the password=\u001b[39m\u001b[38;5;124m'\u001b[39m))\n",
      "\u001b[1;31mNameError\u001b[0m: name 'password' is not defined"
     ]
    }
   ],
   "source": [
    "password1=password\n",
    "def verify():\n",
    "    X= str(input('enter the password='))\n",
    "    if x==password1:\n",
    "        return true\n",
    "    else:\n",
    "        return false\n",
    "if verify():\n"
   ]
  },
  {
   "cell_type": "code",
   "execution_count": 4,
   "id": "4291c2a5",
   "metadata": {},
   "outputs": [
    {
     "name": "stdout",
     "output_type": "stream",
     "text": [
      "   Unnamed: 0  ID prenom       nom   adresse admis/refusé\n",
      "0           0   1  sara   charrada    souuse            a\n",
      "1           1   2    ali   zarrouk    mahdia            a\n",
      "2           2   3   baha     salhi  monastir            r\n",
      "3           3   4  ayhem   chehata    mahdia            a\n",
      "4           4   5   adem    hamemi    sousse            r\n",
      "show the first 5 rows of our data=\n",
      "    ID prenom       nom   adresse admis/refusé\n",
      "0   1  sara   charrada    souuse            a\n",
      "1   2    ali   zarrouk    mahdia            a\n",
      "2   3   baha     salhi  monastir            r\n",
      "3   4  ayhem   chehata    mahdia            a\n",
      "4   5   adem    hamemi    sousse            r\n",
      "donner la ligne qe vous voulez supprimez:1\n",
      "DataFrame after deleting a row...\n",
      "    ID prenom       nom   adresse admis/refusé\n",
      "0   1  sara   charrada    souuse            a\n",
      "2   3   baha     salhi  monastir            r\n",
      "3   4  ayhem   chehata    mahdia            a\n",
      "4   5   adem    hamemi    sousse            r\n",
      "donner votre id=7\n",
      "donner votre prenom=hadir\n",
      "donner nom=fcsyc\n",
      "donner votre adresse=fsyz\n",
      "saisir la decision a ou r=a\n",
      "la liste ajoutee est= None\n",
      "   ID prenom       nom   adresse admis/refusé\n",
      "0   1  sara   charrada    souuse            a\n",
      "1   2    ali   zarrouk    mahdia            a\n",
      "2   3   baha     salhi  monastir            r\n",
      "3   4  ayhem   chehata    mahdia            a\n",
      "4   5   adem    hamemi    sousse            r\n",
      "k   7  hadir     fcsyc      fsyz            a\n"
     ]
    },
    {
     "ename": "NameError",
     "evalue": "name 'Classeur1' is not defined",
     "output_type": "error",
     "traceback": [
      "\u001b[1;31m---------------------------------------------------------------------------\u001b[0m",
      "\u001b[1;31mNameError\u001b[0m                                 Traceback (most recent call last)",
      "Input \u001b[1;32mIn [4]\u001b[0m, in \u001b[0;36m<cell line: 51>\u001b[1;34m()\u001b[0m\n\u001b[0;32m     49\u001b[0m     \u001b[38;5;28;01melse\u001b[39;00m:\n\u001b[0;32m     50\u001b[0m         \u001b[38;5;28;01mreturn\u001b[39;00m (\u001b[38;5;28mlen\u001b[39m(L2)\u001b[38;5;241m/\u001b[39m\u001b[38;5;28mlen\u001b[39m(l))\u001b[38;5;241m*\u001b[39m\u001b[38;5;241m100\u001b[39m\n\u001b[1;32m---> 51\u001b[0m \u001b[38;5;28mprint\u001b[39m(\u001b[38;5;124m\"\u001b[39m\u001b[38;5;124mles statistiques sont=\u001b[39m\u001b[38;5;124m\"\u001b[39m,\u001b[43mstatistique\u001b[49m\u001b[43m(\u001b[49m\u001b[43m)\u001b[49m)\n",
      "Input \u001b[1;32mIn [4]\u001b[0m, in \u001b[0;36mstatistique\u001b[1;34m()\u001b[0m\n\u001b[0;32m     41\u001b[0m dec\u001b[38;5;241m=\u001b[39m\u001b[38;5;124m'\u001b[39m\u001b[38;5;124m'\u001b[39m\n\u001b[0;32m     42\u001b[0m \u001b[38;5;28;01mfor\u001b[39;00m ligne \u001b[38;5;129;01min\u001b[39;00m \u001b[38;5;28mrange\u001b[39m(\u001b[38;5;28mlen\u001b[39m([\u001b[38;5;124m'\u001b[39m\u001b[38;5;124madmis/refusé\u001b[39m\u001b[38;5;124m'\u001b[39m])):\n\u001b[1;32m---> 43\u001b[0m     \u001b[38;5;28;01mif\u001b[39;00m \u001b[43mClasseur1\u001b[49m\u001b[38;5;241m.\u001b[39mxlsx[\u001b[38;5;124m'\u001b[39m\u001b[38;5;124madmis/refusé\u001b[39m\u001b[38;5;124m'\u001b[39m]\u001b[38;5;241m==\u001b[39m\u001b[38;5;124m'\u001b[39m\u001b[38;5;124ma\u001b[39m\u001b[38;5;124m'\u001b[39m:\n\u001b[0;32m     44\u001b[0m         L1\u001b[38;5;241m.\u001b[39mappend(ligne)\n\u001b[0;32m     45\u001b[0m     \u001b[38;5;28;01melse\u001b[39;00m:\n",
      "\u001b[1;31mNameError\u001b[0m: name 'Classeur1' is not defined"
     ]
    }
   ],
   "source": [
    "import pandas as pd\n",
    "\n",
    "df=pd.read_excel(r'C:\\Users\\UER\\Documents\\Classeur1.xlsx')\n",
    "df.to_csv('data.csv')\n",
    "new_data=pd.read_csv('data.csv')\n",
    "print(new_data)\n",
    "\n",
    "#getting information from dataframe\n",
    "def getinformation():\n",
    "     return df.head()\n",
    "print('show the first 5 rows of our data=\\n',getinformation())\n",
    "\n",
    "\n",
    "\n",
    "# deleting a row\n",
    "def deleterow(s):\n",
    "    return df.drop(s)\n",
    "a=int(input('donner la ligne qe vous voulez supprimez:'))\n",
    "print(\"DataFrame after deleting a row...\\n\",deleterow(a))\n",
    "\n",
    "\n",
    "\n",
    "\n",
    "# New list to append Row to DataFrame.\n",
    "def modifydata(a,b,c,d,e):\n",
    "    l=[a,b,c,d,e]\n",
    "    df.loc['k'] = [a,b,c,d,e]\n",
    "    return None\n",
    "x=int(input ('donner votre id='))\n",
    "y=str(input('donner votre prenom='))\n",
    "z=str(input('donner nom='))\n",
    "r=str(input('donner votre adresse='))\n",
    "s=str(input('saisir la decision a ou r='))\n",
    "print(\"la liste ajoutee est=\",modifydata(x,y,z,r,s)) \n",
    "print(df)\n",
    "\n",
    "\n",
    "def statistique():\n",
    "    L1=[] #candidat admis\n",
    "    L2=[] #candidat refusé\n",
    "    dec=''\n",
    "    for ligne in range(len(['admis/refusé'])):\n",
    "        if Classeur1.xlsx['admis/refusé']=='a':\n",
    "            L1.append(ligne)\n",
    "        else:\n",
    "            L2.append(ligne)\n",
    "    if dec=='a':\n",
    "        return (len(L1)/len(l))*100\n",
    "    else:\n",
    "        return (len(L2)/len(l))*100\n",
    "print(\"les statistiques sont=\",statistique())\n",
    "\n",
    "\n",
    "\n"
   ]
  },
  {
   "cell_type": "code",
   "execution_count": null,
   "id": "dd5025d7",
   "metadata": {},
   "outputs": [],
   "source": []
  }
 ],
 "metadata": {
  "kernelspec": {
   "display_name": "Python 3 (ipykernel)",
   "language": "python",
   "name": "python3"
  },
  "language_info": {
   "codemirror_mode": {
    "name": "ipython",
    "version": 3
   },
   "file_extension": ".py",
   "mimetype": "text/x-python",
   "name": "python",
   "nbconvert_exporter": "python",
   "pygments_lexer": "ipython3",
   "version": "3.9.12"
  }
 },
 "nbformat": 4,
 "nbformat_minor": 5
}
