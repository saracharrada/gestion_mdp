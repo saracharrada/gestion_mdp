{
 "cells": [
  {
   "cell_type": "code",
   "execution_count": 4,
   "id": "269d9b6d",
   "metadata": {
    "scrolled": true
   },
   "outputs": [
    {
     "name": "stdout",
     "output_type": "stream",
     "text": [
      "   Unnamed: 0  ID prenom       nom   adresse admis/refusé\n",
      "0           0   1  sara   charrada    souuse            a\n",
      "1           1   2    ali   zarrouk    mahdia            a\n",
      "2           2   3   baha     salhi  monastir            r\n",
      "3           3   4  ayhem   chehata    mahdia            a\n",
      "4           4   5   adem    hamemi    sousse            r\n",
      "donner la ligne qe vous voulez supprimez:1\n",
      "DataFrame after deleting a row...\n",
      "    ID prenom       nom   adresse admis/refusé\n",
      "0   1  sara   charrada    souuse            a\n",
      "2   3   baha     salhi  monastir            r\n",
      "3   4  ayhem   chehata    mahdia            a\n",
      "4   5   adem    hamemi    sousse            r\n",
      "donner votre id=7\n",
      "donner votre prenom=hgtfyt\n",
      "donner nom=HYGBUJ\n",
      "donner votre adresse=YGUY\n",
      "saisir la decision a ou r=a\n",
      "la liste ajoutee est= None\n",
      "   ID  prenom       nom   adresse admis/refusé\n",
      "0   1   sara   charrada    souuse            a\n",
      "1   2     ali   zarrouk    mahdia            a\n",
      "2   3    baha     salhi  monastir            r\n",
      "3   4   ayhem   chehata    mahdia            a\n",
      "4   5    adem    hamemi    sousse            r\n",
      "k   7  hgtfyt    HYGBUJ      YGUY            a\n"
     ]
    },
    {
     "ename": "NameError",
     "evalue": "name 'Classeur1' is not defined",
     "output_type": "error",
     "traceback": [
      "\u001b[1;31m---------------------------------------------------------------------------\u001b[0m",
      "\u001b[1;31mNameError\u001b[0m                                 Traceback (most recent call last)",
      "Input \u001b[1;32mIn [4]\u001b[0m, in \u001b[0;36m<cell line: 66>\u001b[1;34m()\u001b[0m\n\u001b[0;32m     64\u001b[0m     \u001b[38;5;28;01melse\u001b[39;00m:\n\u001b[0;32m     65\u001b[0m         \u001b[38;5;28;01mreturn\u001b[39;00m (\u001b[38;5;28mlen\u001b[39m(L2)\u001b[38;5;241m/\u001b[39m\u001b[38;5;28mlen\u001b[39m(l))\u001b[38;5;241m*\u001b[39m\u001b[38;5;241m100\u001b[39m\n\u001b[1;32m---> 66\u001b[0m \u001b[38;5;28mprint\u001b[39m(\u001b[38;5;124m\"\u001b[39m\u001b[38;5;124mles statistiques sont=\u001b[39m\u001b[38;5;124m\"\u001b[39m,\u001b[43mstatistique\u001b[49m\u001b[43m(\u001b[49m\u001b[43m)\u001b[49m)\n\u001b[0;32m     68\u001b[0m \u001b[38;5;66;03m#third button\u001b[39;00m\n\u001b[0;32m     69\u001b[0m Button(root, text \u001b[38;5;241m=\u001b[39m \u001b[38;5;124m'\u001b[39m\u001b[38;5;124mstatistique\u001b[39m\u001b[38;5;124m'\u001b[39m, command \u001b[38;5;241m=\u001b[39m statistique, font\u001b[38;5;241m=\u001b[39m\u001b[38;5;124m\"\u001b[39m\u001b[38;5;124mArial 10\u001b[39m\u001b[38;5;124m\"\u001b[39m, bg\u001b[38;5;241m=\u001b[39m\u001b[38;5;124m'\u001b[39m\u001b[38;5;124mpink\u001b[39m\u001b[38;5;124m'\u001b[39m, fg\u001b[38;5;241m=\u001b[39m\u001b[38;5;124m'\u001b[39m\u001b[38;5;124mblack\u001b[39m\u001b[38;5;124m'\u001b[39m, activebackground\u001b[38;5;241m=\u001b[39m\u001b[38;5;124m\"\u001b[39m\u001b[38;5;124mteal\u001b[39m\u001b[38;5;124m\"\u001b[39m, padx\u001b[38;5;241m=\u001b[39m\u001b[38;5;241m5\u001b[39m, pady\u001b[38;5;241m=\u001b[39m\u001b[38;5;241m5\u001b[39m )\u001b[38;5;241m.\u001b[39mpack(pady\u001b[38;5;241m=\u001b[39m \u001b[38;5;241m20\u001b[39m)\n",
      "Input \u001b[1;32mIn [4]\u001b[0m, in \u001b[0;36mstatistique\u001b[1;34m()\u001b[0m\n\u001b[0;32m     55\u001b[0m L2\u001b[38;5;241m=\u001b[39m[] \u001b[38;5;66;03m#candidat refusé\u001b[39;00m\n\u001b[0;32m     56\u001b[0m dec\u001b[38;5;241m=\u001b[39m\u001b[38;5;124m'\u001b[39m\u001b[38;5;124m'\u001b[39m\n\u001b[1;32m---> 57\u001b[0m \u001b[38;5;28;01mfor\u001b[39;00m ligne \u001b[38;5;129;01min\u001b[39;00m \u001b[38;5;28mrange\u001b[39m(\u001b[38;5;28mlen\u001b[39m(\u001b[43mClasseur1\u001b[49m[\u001b[38;5;124m'\u001b[39m\u001b[38;5;124madmis/refusé\u001b[39m\u001b[38;5;124m'\u001b[39m])):\n\u001b[0;32m     58\u001b[0m     \u001b[38;5;28;01mif\u001b[39;00m Classeur1[\u001b[38;5;124m'\u001b[39m\u001b[38;5;124madmis/refusé\u001b[39m\u001b[38;5;124m'\u001b[39m]\u001b[38;5;241m==\u001b[39m\u001b[38;5;124m'\u001b[39m\u001b[38;5;124ma\u001b[39m\u001b[38;5;124m'\u001b[39m:\n\u001b[0;32m     59\u001b[0m         L1\u001b[38;5;241m.\u001b[39mappend(ligne)\n",
      "\u001b[1;31mNameError\u001b[0m: name 'Classeur1' is not defined"
     ]
    }
   ],
   "source": [
    "from tkinter import *\n",
    "\n",
    "import pandas as pd\n",
    "\n",
    "df=pd.read_excel(r'C:\\Users\\UER\\Documents\\Classeur1.xlsx')\n",
    "df.to_csv('data.csv')\n",
    "new_data=pd.read_csv('data.csv')\n",
    "print(new_data)\n",
    "\n",
    "\n",
    "#Initialize Window\n",
    " \n",
    "root =Tk()\n",
    "root.geometry(\"400x400\") #size of the window by default\n",
    "\n",
    "# deleting a row\n",
    "def deleterow(s):\n",
    "    return df.drop(s)\n",
    "a=int(input('donner la ligne qe vous voulez supprimez:'))\n",
    "print(\"DataFrame after deleting a row...\\n\",deleterow(a))\n",
    " \n",
    " \n",
    "#title of our window\n",
    "pass_head = Label(root, text = 'delete row', font = 'arial 12 bold').pack(pady=10) #to generate label heading\n",
    "\n",
    "\n",
    "Button(root, command = deleterow, text = \"delete row\", font=\"Alkalami\", bg='pink', fg='black', activebackground=\"teal\", padx=5, pady=5 ).pack(pady= 20)\n",
    " \n",
    "    \n",
    "    \n",
    "    # New list to append Row to DataFrame.\n",
    "def modifydata(a,b,c,d,e):\n",
    "    l=[a,b,c,d,e]\n",
    "    df.loc['k'] = [a,b,c,d,e]\n",
    "    return None\n",
    "x=int(input ('donner votre id='))\n",
    "y=str(input('donner votre prenom='))\n",
    "z=str(input('donner nom='))\n",
    "r=str(input('donner votre adresse='))\n",
    "s=str(input('saisir la decision a ou r='))\n",
    "print(\"la liste ajoutee est=\",modifydata(x,y,z,r,s)) \n",
    "print(df)\n",
    "\n",
    "#second button    \n",
    "pass_label = Label(root, text = 'modifydata', font = 'arial 12 bold').pack(pady=\"30 10\")\n",
    "\n",
    " \n",
    "#Copy to clipboard button\n",
    " \n",
    "Button(root, text = 'modify data', command = modifydata(x,y,z,r,s), font=\"Arial 10\", bg='pink', fg='black', activebackground=\"teal\", padx=5, pady=5 ).pack(pady= 20)\n",
    "\n",
    "\n",
    "def statistique():\n",
    "    L1=[] #candidat admis\n",
    "    L2=[] #candidat refusé\n",
    "    dec=''\n",
    "    for ligne in range(len(Classeur1['admis/refusé'])):\n",
    "        if Classeur1['admis/refusé']=='a':\n",
    "            L1.append(ligne)\n",
    "        else:\n",
    "            L2.append(ligne)\n",
    "    if dec=='a':\n",
    "        return (len(L1)/len(l))*100\n",
    "    else:\n",
    "        return (len(L2)/len(l))*100\n",
    "print(\"les statistiques sont=\",statistique())\n",
    "\n",
    "#third button\n",
    "Button(root, text = 'statistique', command = statistique, font=\"Arial 10\", bg='pink', fg='black', activebackground=\"teal\", padx=5, pady=5 ).pack(pady= 20)\n",
    "\n",
    "\n",
    "root.mainloop()"
   ]
  },
  {
   "cell_type": "markdown",
   "id": "ad9807f1",
   "metadata": {},
   "source": []
  }
 ],
 "metadata": {
  "kernelspec": {
   "display_name": "Python 3 (ipykernel)",
   "language": "python",
   "name": "python3"
  },
  "language_info": {
   "codemirror_mode": {
    "name": "ipython",
    "version": 3
   },
   "file_extension": ".py",
   "mimetype": "text/x-python",
   "name": "python",
   "nbconvert_exporter": "python",
   "pygments_lexer": "ipython3",
   "version": "3.9.12"
  }
 },
 "nbformat": 4,
 "nbformat_minor": 5
}
